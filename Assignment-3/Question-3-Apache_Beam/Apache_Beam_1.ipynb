{
  "nbformat": 4,
  "nbformat_minor": 0,
  "metadata": {
    "colab": {
      "provenance": [],
      "collapsed_sections": []
    },
    "kernelspec": {
      "name": "python3",
      "display_name": "Python 3"
    },
    "language_info": {
      "name": "python"
    }
  },
  "cells": [
    {
      "cell_type": "markdown",
      "source": [
        "# Apache Beam Programming Model"
      ],
      "metadata": {
        "id": "M9wNQYPyentT"
      }
    },
    {
      "cell_type": "markdown",
      "source": [
        "Below operations are performed using Apache beam setup:\n",
        "\n",
        "* Map, filter and core transforms\n",
        "* ParDo transform\n",
        "* Composite transform\n",
        "\n",
        "The data set contains data of customers who purchased fruits. Perform operations on these customers to group buyers who bought specific fruit item."
      ],
      "metadata": {
        "id": "9leO5G_qe1Bp"
      }
    },
    {
      "cell_type": "markdown",
      "source": [
        "# Install Apache beam package"
      ],
      "metadata": {
        "id": "TJX_5rJXf1sk"
      }
    },
    {
      "cell_type": "code",
      "execution_count": null,
      "metadata": {
        "colab": {
          "base_uri": "https://localhost:8080/"
        },
        "id": "zSBFy-OR3pDZ",
        "outputId": "d89a0555-1544-4990-ea23-a4837d8b8d58"
      },
      "outputs": [
        {
          "output_type": "stream",
          "name": "stdout",
          "text": [
            ">> pip install --quiet apache-beam\n",
            "\n"
          ]
        }
      ],
      "source": [
        "# Run and print a shell command.\n",
        "def run(cmd):\n",
        "  print('>> {}'.format(cmd))\n",
        "  !{cmd}\n",
        "  print('')\n",
        "\n",
        "# Install apache-beam.\n",
        "run('pip install --quiet apache-beam')\n"
      ]
    },
    {
      "cell_type": "markdown",
      "source": [
        "* Read the input data of customers\n",
        "* Calculate number of customers who bought Grapes 🍇 .\n",
        "* Write all the details to an output text file."
      ],
      "metadata": {
        "id": "4lPaFfsaf5f4"
      }
    },
    {
      "cell_type": "code",
      "source": [
        "import apache_beam as beam\n",
        "\n",
        "p1 = beam.Pipeline()\n",
        "\n",
        "visit_count = (\n",
        "    p1\n",
        "    |beam.io.ReadFromText('/content/Buying_Fruits_List.txt')\n",
        "    |beam.Map(lambda x: x.split(','))\n",
        "    |beam.Filter(lambda x:x[2]=='Grapes')\n",
        "    |beam.Map(lambda x:(x[1], 1))\n",
        "    |beam.CombinePerKey(sum)\n",
        "\n",
        "\n",
        "    |beam.io.WriteToText('Output.txt1')\n",
        ")\n",
        "\n",
        "p1.run()"
      ],
      "metadata": {
        "colab": {
          "base_uri": "https://localhost:8080/"
        },
        "id": "qvFkrJeT4dL_",
        "outputId": "5201b0fc-9779-4d20-d6ee-de936c925a25"
      },
      "execution_count": null,
      "outputs": [
        {
          "output_type": "execute_result",
          "data": {
            "text/plain": [
              "<apache_beam.runners.portability.fn_api_runner.fn_runner.RunnerResult at 0x7f2df9ae8750>"
            ]
          },
          "metadata": {},
          "execution_count": 46
        }
      ]
    },
    {
      "cell_type": "markdown",
      "source": [
        "* Calculate the number of persons who bought Apples 🍎  and Grapes 🍇"
      ],
      "metadata": {
        "id": "8UdtZ3uQgdh2"
      }
    },
    {
      "cell_type": "code",
      "source": [
        "import apache_beam as beam\n",
        "\n",
        "\n",
        "p2 = beam.Pipeline()\n",
        "\n",
        "\n",
        "input_collection = (\n",
        "\n",
        "    p2\n",
        "    | \"Read input data\" >> beam.io.ReadFromText('/content/Buying_Fruits_List.txt')\n",
        "    | \"Split rows into columns\" >> beam.Map(lambda record: record.split(','))\n",
        "                  )\n",
        "\n",
        "grapes_buyers_count = (\n",
        "    input_collection\n",
        "    | 'Filter Grapes buyers' >> beam.Filter(lambda record: record[2] == 'Grapes')\n",
        "    | 'Pair each grapes buyer with 1' >> beam.Map(lambda record: (\"grapes, \" +record[1], 1))\n",
        "    | 'Aggregate all Grapes buyers' >> beam.CombinePerKey(sum)\n",
        "    )\n",
        "\n",
        "apples_buyers_count = (\n",
        "    input_collection\n",
        "    | 'Filter Apples buyers' >> beam.Filter(lambda record: record[2] == 'Apples')\n",
        "    | 'Pair each buyer with 1' >> beam.Map(lambda record: (\"apples, \" +record[1], 1))\n",
        "    | 'Aggregate all Apples buyers' >> beam.CombinePerKey(sum)\n",
        "    )\n",
        "\n",
        "output =(\n",
        "        (grapes_buyers_count,grapes_buyers_count)\n",
        "  | beam.Flatten()\n",
        "  | beam.io.WriteToText('data/both')\n",
        ")\n",
        "\n",
        "p2.run()"
      ],
      "metadata": {
        "colab": {
          "base_uri": "https://localhost:8080/"
        },
        "id": "hxb_IgBQMvgw",
        "outputId": "5e2b1df5-71d6-4f81-c2b9-29288ca32592"
      },
      "execution_count": null,
      "outputs": [
        {
          "output_type": "stream",
          "name": "stderr",
          "text": [
            "WARNING:apache_beam.io.filebasedsink:Deleting 1 existing files in target path matching: -*-of-%(num_shards)05d\n"
          ]
        },
        {
          "output_type": "execute_result",
          "data": {
            "text/plain": [
              "<apache_beam.runners.portability.fn_api_runner.fn_runner.RunnerResult at 0x7f2df9b5ff50>"
            ]
          },
          "metadata": {},
          "execution_count": 45
        }
      ]
    },
    {
      "cell_type": "markdown",
      "source": [
        "# ParDo Transform"
      ],
      "metadata": {
        "id": "fJBcMeN9ImC7"
      }
    },
    {
      "cell_type": "markdown",
      "source": [
        "* Calculate the number of people who bought strawberries 🍓  using ParDo transform."
      ],
      "metadata": {
        "id": "zW54t6NDhF3Q"
      }
    },
    {
      "cell_type": "code",
      "source": [
        "import apache_beam as beam\n",
        "\n",
        "class SplitRow(beam.DoFn):\n",
        " \n",
        "  def process(self, element):\n",
        "    # return type -> list\n",
        "    return  [element.split(',')]\n",
        " \n",
        "\n",
        "class FilterStrawberriesBuyers(beam.DoFn):\n",
        " \n",
        "  def process(self, element):\n",
        "    if element[2] == 'Strawberries':\n",
        "      return [element]  \n",
        "    \n",
        "class PairBuyers(beam.DoFn):\n",
        " \n",
        "  def process(self, element):\n",
        "    return [(element[1], 1)]\n",
        " \n",
        "class Counting(beam.DoFn):\n",
        " \n",
        "  def process(self, element):\n",
        "    # return type -> list\n",
        "    (key, values) = element         \n",
        "    return [(key, sum(values))]\n",
        "     \n",
        "\n",
        "p3 = beam.Pipeline()\n",
        "\n",
        "strawberries_count = (\n",
        "    \n",
        "   p3\n",
        "    |beam.io.ReadFromText('/content/Buying_Fruits_List.txt')\n",
        "    \n",
        "    |beam.ParDo(SplitRow())\n",
        "    |beam.ParDo(FilterStrawberriesBuyers())\n",
        "    |beam.ParDo(PairBuyers())\n",
        "    | 'Group ' >> beam.GroupByKey()\n",
        "    | 'Sum using ParDo' >> beam.ParDo(Counting())  \n",
        "    \n",
        "    |beam.io.WriteToText('parddo_output.txt')\n",
        " \n",
        ")\n",
        "\n",
        "p3.run()"
      ],
      "metadata": {
        "id": "C_tcc5KCNptV",
        "colab": {
          "base_uri": "https://localhost:8080/"
        },
        "outputId": "dc1515b5-9d9c-4ee8-e280-ef6ba3024c98"
      },
      "execution_count": null,
      "outputs": [
        {
          "output_type": "execute_result",
          "data": {
            "text/plain": [
              "<apache_beam.runners.portability.fn_api_runner.fn_runner.RunnerResult at 0x7f2df9390d90>"
            ]
          },
          "metadata": {},
          "execution_count": 44
        }
      ]
    },
    {
      "cell_type": "markdown",
      "source": [
        "# Composite Transform"
      ],
      "metadata": {
        "id": "gnXcjJdIIR8n"
      }
    },
    {
      "cell_type": "markdown",
      "source": [
        "* Group and calculate all purchasers of every item in the input file( Apples 🍎 , Bananas 🍌 , Grapes 🍇 and Strawberries 🍓).\n",
        "* Write all the counts to an output file using Composite transform."
      ],
      "metadata": {
        "id": "jx0AxBHJhahd"
      }
    },
    {
      "cell_type": "code",
      "source": [
        "import apache_beam as beam\n",
        "\n",
        "class CustomTransform(beam.PTransform):\n",
        "  \n",
        "  def expand(self, input_coll):\n",
        "    \n",
        "    a = ( \n",
        "        input_coll\n",
        "                       | 'Group and sum' >> beam.CombinePerKey(sum)\n",
        "                       | 'Customers and sales' >> beam.Map(format_output)\n",
        "              \n",
        "    )\n",
        "    return a\n",
        "\n",
        "def SplitRow(element):\n",
        "    return element.split(',')\n",
        "  \n",
        "def format_output(element):\n",
        "  name, count = element\n",
        "  return ', '.join((name,str(count)))\n",
        "\n",
        "p4 = beam.Pipeline()\n",
        "\n",
        "input_collection = ( \n",
        "                      p4\n",
        "                      | \"Read from text file\" >> beam.io.ReadFromText('/content/Buying_Fruits_List.txt')\n",
        "                      | \"Split rows\" >> beam.Map(SplitRow)\n",
        "                   )\n",
        "\n",
        "Grapes_count = (\n",
        "                      input_collection\n",
        "                      | 'Filter Grapes buyers' >> beam.Filter(lambda record: record[2] == 'Grapes')\n",
        "                      | 'Pair each Grapes buyer with 1' >> beam.Map(lambda record: (\"Grapes, \" +record[1], 1))\n",
        "                      | 'composite Grapes buyers' >> CustomTransform()\n",
        "                      | 'Write results for Grapes' >> beam.io.WriteToText('Grapes_output.txt')\n",
        "                 )\n",
        "\n",
        "Apples_count = (\n",
        "                input_collection\n",
        "                | 'Filter Apples buyers' >> beam.Filter(lambda record: record[2] == 'Apples')\n",
        "                | 'Pair each Apples buyer with 1' >> beam.Map(lambda record: (\"Apples, \" +record[1], 1))\n",
        "                | 'composite Apples buyers' >> CustomTransform()\n",
        "                | 'Write results for Apples' >> beam.io.WriteToText('Apples_output.txt')\n",
        "           )\n",
        "\n",
        "Bananas_count = (\n",
        "                      input_collection\n",
        "                      | 'Filter Bananas buyers' >> beam.Filter(lambda record: record[2] == 'Bananas')\n",
        "                      | 'Pair each bananas buyer with 1' >> beam.Map(lambda record: (\"Bananas, \" +record[1], 1))\n",
        "                      | 'composite Bananas buyers' >> CustomTransform()\n",
        "                      | 'Write results for Bananas' >> beam.io.WriteToText('Bananas_output.txt')\n",
        "                 )\n",
        "\n",
        "Strawberries_count = (\n",
        "                input_collection\n",
        "                | 'Filter Strawberries buyers' >> beam.Filter(lambda record: record[2] == 'Strawberries')\n",
        "                | 'Pair each Strawberries buyer with 1' >> beam.Map(lambda record: (\"Strawberries, \" +record[1], 1))\n",
        "                | 'composite Strawberries buyers' >> CustomTransform()\n",
        "                | 'Write results for Strawberries' >> beam.io.WriteToText('Strawberries_output.txt')\n",
        "                )\n",
        "\n",
        "p4.run()"
      ],
      "metadata": {
        "colab": {
          "base_uri": "https://localhost:8080/"
        },
        "id": "E8rlGtKQcNgx",
        "outputId": "68fafadc-ec35-466a-fdc5-b44197939b38"
      },
      "execution_count": null,
      "outputs": [
        {
          "output_type": "execute_result",
          "data": {
            "text/plain": [
              "<apache_beam.runners.portability.fn_api_runner.fn_runner.RunnerResult at 0x7f2df9a62990>"
            ]
          },
          "metadata": {},
          "execution_count": 47
        }
      ]
    }
  ]
}