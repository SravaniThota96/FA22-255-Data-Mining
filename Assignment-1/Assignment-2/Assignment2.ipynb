{
  "nbformat": 4,
  "nbformat_minor": 0,
  "metadata": {
    "colab": {
      "name": "Assignment2.ipynb",
      "provenance": [],
      "collapsed_sections": []
    },
    "kernelspec": {
      "name": "python3",
      "display_name": "Python 3"
    },
    "language_info": {
      "name": "python"
    }
  },
  "cells": [
    {
      "cell_type": "code",
      "execution_count": null,
      "metadata": {
        "id": "0yuNDh-vtxb4"
      },
      "outputs": [],
      "source": [
        "import random\n",
        "import sys\n",
        "import os"
      ]
    },
    {
      "cell_type": "code",
      "source": [
        "print(\"Hello World\")"
      ],
      "metadata": {
        "colab": {
          "base_uri": "https://localhost:8080/"
        },
        "id": "_jyUhMRUt2Ei",
        "outputId": "8d8f63e9-0df5-4cab-b8ba-fbd59724f930"
      },
      "execution_count": null,
      "outputs": [
        {
          "output_type": "stream",
          "name": "stdout",
          "text": [
            "Hello World\n"
          ]
        }
      ]
    },
    {
      "cell_type": "code",
      "source": [
        "# Single Line Comment\n",
        "\n",
        "''' Multiline Comment'''"
      ],
      "metadata": {
        "colab": {
          "base_uri": "https://localhost:8080/",
          "height": 35
        },
        "id": "Wx5_n6wauULO",
        "outputId": "03c91f27-ac2f-41db-d40d-c525c7ff1506"
      },
      "execution_count": null,
      "outputs": [
        {
          "output_type": "execute_result",
          "data": {
            "text/plain": [
              "' Multiline Comment'"
            ],
            "application/vnd.google.colaboratory.intrinsic+json": {
              "type": "string"
            }
          },
          "metadata": {},
          "execution_count": 32
        }
      ]
    },
    {
      "cell_type": "code",
      "source": [
        "name = 'Sravani Thota'\n",
        "\n",
        "print(name)"
      ],
      "metadata": {
        "colab": {
          "base_uri": "https://localhost:8080/"
        },
        "id": "JFzYHC_Euu3s",
        "outputId": "9c13163e-ddb6-428f-99a2-8cb2c8c532ce"
      },
      "execution_count": null,
      "outputs": [
        {
          "output_type": "stream",
          "name": "stdout",
          "text": [
            "Sravani Thota\n"
          ]
        }
      ]
    },
    {
      "cell_type": "code",
      "source": [
        "# The arithmetic operators +, -, *, /, %, **, //\n",
        "\n",
        "print(\"5 + 2 =\", 5+2)\n",
        "print(\"5 - 2 =\", 5-2)\n",
        "print(\"5 * 2 =\", 5*2)\n",
        "print(\"5 / 2 =\", 5/2)\n",
        "print(\"5 % 2 =\", 5%2)\n",
        "print(\"5 ** 2 =\", 5**2)  # Exponential calculation\n",
        "print(\"5 // 2 =\", 5//2) # // Floor Division"
      ],
      "metadata": {
        "colab": {
          "base_uri": "https://localhost:8080/"
        },
        "id": "xhCgAq4swSEX",
        "outputId": "cf58f2d4-eb15-4778-dedd-72a262862f7b"
      },
      "execution_count": null,
      "outputs": [
        {
          "output_type": "stream",
          "name": "stdout",
          "text": [
            "5 + 2 = 7\n",
            "5 - 2 = 3\n",
            "5 * 2 = 10\n",
            "5 / 2 = 2.5\n",
            "5 % 2 = 1\n",
            "5 ** 2 = 25\n",
            "5 // 2 = 2\n"
          ]
        }
      ]
    },
    {
      "cell_type": "code",
      "source": [
        "# Order of Operations: (* and / is performed before + and -)\n",
        "\n",
        "print(\"5 + 4 - 3 * 1 =\", 5 + 4 - 3 * 1)\n",
        "print(\"(7 + 10 - 6) * 5 =\", (7 + 10 - 6) * 5)"
      ],
      "metadata": {
        "colab": {
          "base_uri": "https://localhost:8080/"
        },
        "id": "tARa_dZowjeA",
        "outputId": "8bd2167e-e8be-4b9f-8d72-1605a3f208a0"
      },
      "execution_count": null,
      "outputs": [
        {
          "output_type": "stream",
          "name": "stdout",
          "text": [
            "5 + 4 - 3 * 1 = 6\n",
            "(7 + 10 - 6) * 5 = 55\n"
          ]
        }
      ]
    },
    {
      "cell_type": "code",
      "source": [
        "# Escape it with \\ If we must use a \" or ' between the same quote\n",
        "\n",
        "quote = \"\\\"Always remember you are unique,\" \n",
        "\n",
        "# A multi-line quote\n",
        "multi_line_quote = ''' just\n",
        "like everyone else\" '''\n",
        "\n",
        "print(quote + multi_line_quote)\n",
        "\n",
        "print(\"%s %s %s\" % ('I like the quote', quote, multi_line_quote))\n"
      ],
      "metadata": {
        "colab": {
          "base_uri": "https://localhost:8080/"
        },
        "id": "kXXOs_xCxCoL",
        "outputId": "ea1ddbba-7e69-4cc0-c73b-5c9cf068a094"
      },
      "execution_count": null,
      "outputs": [
        {
          "output_type": "stream",
          "name": "stdout",
          "text": [
            "\"Always remember you are unique, just\n",
            "like everyone else\" \n",
            "I like the quote \"Always remember you are unique,  just\n",
            "like everyone else\" \n"
          ]
        }
      ]
    },
    {
      "cell_type": "code",
      "source": [
        "print(\"I don't like \",end=\"\") # to stop printing newlines, use end=\n",
        "print(\"newlines\")"
      ],
      "metadata": {
        "colab": {
          "base_uri": "https://localhost:8080/"
        },
        "id": "r--d62buxneq",
        "outputId": "ab51d6ab-06e2-4914-8385-53ebb110ca89"
      },
      "execution_count": null,
      "outputs": [
        {
          "output_type": "stream",
          "name": "stdout",
          "text": [
            "I don't like newlines\n"
          ]
        }
      ]
    },
    {
      "cell_type": "code",
      "source": [
        "print('Hi' * 5) #Printing  muliple times"
      ],
      "metadata": {
        "colab": {
          "base_uri": "https://localhost:8080/"
        },
        "id": "TfdDxOAbx8W-",
        "outputId": "9b84b74f-304a-4e4d-f253-fdd403b4bc4b"
      },
      "execution_count": null,
      "outputs": [
        {
          "output_type": "stream",
          "name": "stdout",
          "text": [
            "HiHiHiHiHi\n"
          ]
        }
      ]
    },
    {
      "cell_type": "code",
      "source": [
        "# ___________________LISTS_____________________________\n",
        "\n",
        "numbers_list = ['10', '11', '12', '13']\n",
        "print('The first item is', numbers_list[1])\n",
        "\n",
        "numbers_list[0] = \"15\" # Modify the element\n",
        "print(numbers_list)\n",
        "\n",
        "print(numbers_list[2:4]) # Subset of the list\n",
        "\n",
        "other_numbers = ['20', '21', '22']\n",
        "extra_list = [other_numbers, numbers_list]\n",
        "\n",
        "print(extra_list)\n",
        "\n",
        "print(extra_list[1][1])\n",
        "\n",
        "numbers_list.append('23') # add values to list\n",
        "print(extra_list)\n",
        "\n",
        "numbers_list.insert(1, \"19\") # To insert at specific index\n",
        "print(extra_list)\n",
        "\n",
        "numbers_list.remove('23') # remove elements in list\n",
        "print(extra_list)\n",
        "\n",
        "numbers_list.sort() # sort list elements (asc to desc)\n",
        "print(numbers_list)\n",
        "\n",
        "numbers_list.reverse() # sort is reverse order (desc to asc)\n",
        "print(numbers_list)\n",
        "\n",
        "del numbers_list[3] # delete at specific index\n",
        "print(numbers_list)\n",
        "\n",
        "print(len(extra_list))\n",
        "\n",
        "print(max(extra_list))\n",
        "\n",
        "\n",
        "print(min(extra_list))\n"
      ],
      "metadata": {
        "colab": {
          "base_uri": "https://localhost:8080/"
        },
        "id": "623PcIu8yGUL",
        "outputId": "adc6bf8e-c2d5-497d-9886-6f7068a5098f"
      },
      "execution_count": null,
      "outputs": [
        {
          "output_type": "stream",
          "name": "stdout",
          "text": [
            "The first item is 11\n",
            "['15', '11', '12', '13']\n",
            "['12', '13']\n",
            "[['20', '21', '22'], ['15', '11', '12', '13']]\n",
            "11\n",
            "[['20', '21', '22'], ['15', '11', '12', '13', '23']]\n",
            "[['20', '21', '22'], ['15', '19', '11', '12', '13', '23']]\n",
            "[['20', '21', '22'], ['15', '19', '11', '12', '13']]\n",
            "['11', '12', '13', '15', '19']\n",
            "['19', '15', '13', '12', '11']\n",
            "['19', '15', '13', '11']\n",
            "2\n",
            "['20', '21', '22']\n",
            "['19', '15', '13', '11']\n"
          ]
        }
      ]
    },
    {
      "cell_type": "code",
      "source": [
        "# ____________________Tuples ____________________________\n",
        "# Values in a tuple can't be changed like lists\n",
        "\n",
        "pi_tuple = (3, 1, 4, 1, 5, 9)\n",
        "\n",
        "# Convert tuple into a list\n",
        "#new_tuple = list(pi_tuple)\n",
        "\n",
        "\n",
        "# tuples also have len(tuple), min(tuple) and max(tuple)\n",
        "\n",
        "\n",
        "super_villains = {'Fiddler' : 'Isaac Bowin',\n",
        "                  'Captain Cold' : 'Leonard Snart',\n",
        "                  'Weather Wizard' : 'Mark Mardon',\n",
        "                  'Mirror Master' : 'Sam Scudder',\n",
        "                  'Pied Piper' : 'Thomas Peterson'}\n",
        "\n",
        "print(super_villains['Captain Cold'])\n",
        "\n",
        "del super_villains['Fiddler']\n",
        "print(super_villains)\n",
        "\n",
        "super_villains['Pied Piper'] = 'Hartley Rathaway'\n",
        "\n",
        "print(len(super_villains))\n",
        "\n",
        "print(super_villains.get(\"Pied Piper\"))\n",
        "\n",
        "# Get a list of dictionary keys\n",
        "print(super_villains.keys())\n",
        "\n",
        "# Get a list of dictionary values\n",
        "print(super_villains.values())\n"
      ],
      "metadata": {
        "colab": {
          "base_uri": "https://localhost:8080/"
        },
        "id": "Tn5DYGlc1I-R",
        "outputId": "731af087-aee2-4add-acf2-b6ece13e96ac"
      },
      "execution_count": null,
      "outputs": [
        {
          "output_type": "stream",
          "name": "stdout",
          "text": [
            "Leonard Snart\n",
            "{'Captain Cold': 'Leonard Snart', 'Weather Wizard': 'Mark Mardon', 'Mirror Master': 'Sam Scudder', 'Pied Piper': 'Thomas Peterson'}\n",
            "4\n",
            "Hartley Rathaway\n",
            "dict_keys(['Captain Cold', 'Weather Wizard', 'Mirror Master', 'Pied Piper'])\n",
            "dict_values(['Leonard Snart', 'Mark Mardon', 'Sam Scudder', 'Hartley Rathaway'])\n"
          ]
        }
      ]
    },
    {
      "cell_type": "code",
      "source": [
        "# __________________CONDITIONALS_________________\n",
        "\n",
        "age = 25\n",
        "if age > 16 :\n",
        "    print('You are old enough to drive')\n",
        "\n",
        "if age > 16 :\n",
        "    print('You are old enough to drive')\n",
        "else :\n",
        "    print('You are not old enough to drive')\n",
        "\n",
        "\n",
        "\n",
        "if age >= 21 :\n",
        "    print('You are old enough to drive a tractor trailer')\n",
        "elif age >= 16:\n",
        "    print('You are old enough to drive a car')\n",
        "else :\n",
        "    print('You are not old enough to drive')\n",
        "\n",
        "# Logical Operators : and, or, not\n",
        "\n",
        "if ((age >= 1) and (age <= 18)):\n",
        "    print(\"You get a birthday party\")\n",
        "elif (age == 21) or (age >= 65):\n",
        "    print(\"You get a birthday party\")\n",
        "elif not(age == 30):\n",
        "    print(\"You don't get a birthday party\")\n",
        "else:\n",
        "    print(\"You get a birthday party yeah\")"
      ],
      "metadata": {
        "colab": {
          "base_uri": "https://localhost:8080/"
        },
        "id": "WOcuXliX1Xgv",
        "outputId": "91bcd555-2bb0-4865-e393-9f38c2316df1"
      },
      "execution_count": null,
      "outputs": [
        {
          "output_type": "stream",
          "name": "stdout",
          "text": [
            "You are old enough to drive\n",
            "You are old enough to drive\n",
            "You are old enough to drive a tractor trailer\n",
            "You don't get a birthday party\n"
          ]
        }
      ]
    },
    {
      "cell_type": "code",
      "source": [
        "# ____________________FOR LOOPS___________________\n",
        "\n",
        "for x in range(0, 10):\n",
        "    print(x , ' ', end=\"\")\n",
        "\n",
        "print('\\n')\n",
        "\n",
        "grocery_list = ['Juice', 'Tomatoes', 'Potatoes', 'Bananas']\n",
        "\n",
        "for y in grocery_list:\n",
        "    print(y)\n",
        "\n",
        "for x in [2,4,6,8,10]:\n",
        "    print(x)\n",
        "\n",
        "num_list =[[1,2,3],[10,20,30],[100,200,300]];\n",
        "\n",
        "for x in range(0,3):\n",
        "    for y in range(0,3):\n",
        "        print(num_list[x][y])\n",
        "\n"
      ],
      "metadata": {
        "colab": {
          "base_uri": "https://localhost:8080/"
        },
        "id": "qx7xePlF0LGZ",
        "outputId": "2dd768da-44a4-4c70-b997-24e5b432ea64"
      },
      "execution_count": null,
      "outputs": [
        {
          "output_type": "stream",
          "name": "stdout",
          "text": [
            "0  1  2  3  4  5  6  7  8  9  \n",
            "\n",
            "Juice\n",
            "Tomatoes\n",
            "Potatoes\n",
            "Bananas\n",
            "2\n",
            "4\n",
            "6\n",
            "8\n",
            "10\n",
            "1\n",
            "2\n",
            "3\n",
            "10\n",
            "20\n",
            "30\n",
            "100\n",
            "200\n",
            "300\n"
          ]
        }
      ]
    },
    {
      "cell_type": "code",
      "source": [
        "# _________________________WHILE LOOPS_________________________\n",
        "\n",
        "import random\n",
        "\n",
        "random_num = random.randrange(0,100)\n",
        "\n",
        "while (random_num != 15):\n",
        "    print(random_num)\n",
        "    random_num = random.randrange(0,100)\n",
        "\n",
        "i = 0;\n",
        "while (i <= 20):\n",
        "    if(i%2 == 0):\n",
        "        print(i)\n",
        "    elif(i == 9):\n",
        "        break\n",
        "    else:\n",
        "        i += 1\n",
        "        continue\n",
        "\n",
        "    i += 1\n"
      ],
      "metadata": {
        "colab": {
          "base_uri": "https://localhost:8080/"
        },
        "id": "m9AHPJzs1ePv",
        "outputId": "6f2bf22d-a573-4211-857c-e5b6a4837af9"
      },
      "execution_count": null,
      "outputs": [
        {
          "output_type": "stream",
          "name": "stdout",
          "text": [
            "84\n",
            "16\n",
            "96\n",
            "92\n",
            "72\n",
            "3\n",
            "20\n",
            "76\n",
            "29\n",
            "27\n",
            "90\n",
            "38\n",
            "85\n",
            "97\n",
            "99\n",
            "43\n",
            "48\n",
            "19\n",
            "71\n",
            "20\n",
            "84\n",
            "78\n",
            "94\n",
            "90\n",
            "94\n",
            "10\n",
            "55\n",
            "75\n",
            "76\n",
            "45\n",
            "6\n",
            "71\n",
            "43\n",
            "9\n",
            "32\n",
            "84\n",
            "67\n",
            "0\n",
            "2\n",
            "4\n",
            "6\n",
            "8\n"
          ]
        }
      ]
    },
    {
      "cell_type": "code",
      "source": [
        "# __________________FUNCTIONS__________________\n",
        "\n",
        "def addNumbers(fNum, sNum):\n",
        "    sumNum = fNum + sNum\n",
        "    return sumNum\n",
        "\n",
        "print(addNumbers(1, 4))\n",
        "\n",
        "newNum = 0;\n",
        "def subNumbers(fNum, sNum):\n",
        "    newNum = fNum - sNum\n",
        "    return newNum\n",
        "\n",
        "print(subNumbers(1, 4))\n"
      ],
      "metadata": {
        "colab": {
          "base_uri": "https://localhost:8080/"
        },
        "id": "LFZmNUyR1iKO",
        "outputId": "5ef4bbf4-0ed4-46a4-9645-7804da142cd0"
      },
      "execution_count": null,
      "outputs": [
        {
          "output_type": "stream",
          "name": "stdout",
          "text": [
            "5\n",
            "-3\n"
          ]
        }
      ]
    },
    {
      "cell_type": "code",
      "source": [
        "import sys\n",
        "\n",
        "print('What is your name?')\n",
        "\n",
        "name = input()\n",
        "\n",
        "print('Hello', name)\n",
        "\n"
      ],
      "metadata": {
        "colab": {
          "base_uri": "https://localhost:8080/"
        },
        "id": "vobcEHZQ1o1s",
        "outputId": "1001bfc2-95c0-43af-f7ef-cf7d9f5425d5"
      },
      "execution_count": null,
      "outputs": [
        {
          "output_type": "stream",
          "name": "stdout",
          "text": [
            "What is your name?\n",
            "Sravani Thota\n",
            "Hello Sravani Thota\n"
          ]
        }
      ]
    },
    {
      "cell_type": "code",
      "source": [
        "# ___________________STRINGS____________________\n",
        "\n",
        "long_string = \"I'll catch you if you fall - The Floor\"\n",
        "\n",
        " \n",
        "print(long_string[0:4])  # Retrieve the first 4 characters\n",
        "\n",
        "\n",
        "print(long_string[-5:]) # Get the last 5 characters\n",
        "\n",
        "\n",
        "print(long_string[:-5]) # Everything up to the last 5 characters\n",
        "\n",
        "\n",
        "print(long_string[:4] + \" be there\") # Concatenate part of a string to another\n",
        "\n",
        "\n",
        "print(\"%c is my %s letter and my number %d number is %.5f\" % ('X', 'favorite', 1, .14)) # String formatting\n",
        "\n",
        "print(long_string.capitalize()) # Capitalizes the first letter\n",
        "\n",
        "print(long_string.find(\"Floor\")) # Returns the index of the start of the string\n",
        "\n",
        "\n",
        "print(long_string.isalpha()) # Returns true if all characters are letters ' isn't a letter\n",
        "\n",
        "\n",
        "print(long_string.isalnum()) # Returns true if all characters are numbers\n",
        "\n",
        "\n",
        "print(len(long_string))\n",
        "\n",
        "\n",
        "print(long_string.replace(\"Floor\", \"Ground\"))\n",
        "\n",
        "\n",
        "print(long_string.strip())\n",
        "\n",
        "quote_list = long_string.split(\" \")\n",
        "print(quote_list)"
      ],
      "metadata": {
        "colab": {
          "base_uri": "https://localhost:8080/"
        },
        "id": "5I6XI7US1435",
        "outputId": "8ecfae5e-183e-48f4-b3b2-9b6dc25108da"
      },
      "execution_count": null,
      "outputs": [
        {
          "output_type": "stream",
          "name": "stdout",
          "text": [
            "I'll\n",
            "Floor\n",
            "I'll catch you if you fall - The \n",
            "I'll be there\n",
            "X is my favorite letter and my number 1 number is 0.14000\n",
            "I'll catch you if you fall - the floor\n",
            "33\n",
            "False\n",
            "False\n",
            "38\n",
            "I'll catch you if you fall - The Ground\n",
            "I'll catch you if you fall - The Floor\n",
            "[\"I'll\", 'catch', 'you', 'if', 'you', 'fall', '-', 'The', 'Floor']\n"
          ]
        }
      ]
    },
    {
      "cell_type": "code",
      "source": [
        "# __________________FILE I/O____________________\n",
        "import os\n",
        "\n",
        "# Overwrite or create a file for writing\n",
        "test_file = open(\"test.txt\", \"wb\")\n",
        "\n",
        "print(test_file.mode)\n",
        "\n",
        "print(test_file.name)\n",
        "\n",
        "test_file.write(bytes(\"Write me to the file\\n\", 'UTF-8'))\n",
        "\n",
        "test_file.close()\n",
        "\n",
        "\n",
        "test_file = open(\"test.txt\", \"r+\") # Opens a file for reading and writing\n",
        "\n",
        "text_in_file = test_file.read()\n",
        "\n",
        "print(text_in_file)\n",
        "\n",
        "os.remove(\"test.txt\")"
      ],
      "metadata": {
        "colab": {
          "base_uri": "https://localhost:8080/"
        },
        "id": "utCbblm42EJT",
        "outputId": "b4cfbd8e-b43c-4e96-ec5a-3fe29d7fae32"
      },
      "execution_count": null,
      "outputs": [
        {
          "output_type": "stream",
          "name": "stdout",
          "text": [
            "wb\n",
            "test.txt\n",
            "Write me to the file\n",
            "\n"
          ]
        }
      ]
    },
    {
      "cell_type": "code",
      "source": [
        "# ________________OOPS(CLASSES AND OBJECTS)_______________\n",
        "\n",
        "class Animal:\n",
        "    name = None\n",
        "    height = None\n",
        "    weight = None\n",
        "    sound = None\n",
        "\n",
        "    # The constructor is called to set up or initialize an object\n",
        "    # self allows an object to refer to itself inside of the class\n",
        "\n",
        "    def __init__(self, name, height, weight, sound):\n",
        "        self.name = name\n",
        "        self.height = height\n",
        "        self.weight = weight\n",
        "        self.sound = sound\n",
        "\n",
        "    def set_name(self, name):\n",
        "        self.name = name\n",
        "\n",
        "    def set_height(self, height):\n",
        "        self.height = height\n",
        "\n",
        "    def set_weight(self, height):\n",
        "        self.height = height\n",
        "\n",
        "    def set_sound(self, sound):\n",
        "        self.sound = sound\n",
        "\n",
        "    def get_name(self):\n",
        "        return self.name\n",
        "\n",
        "    def get_height(self):\n",
        "        return str(self.height)\n",
        "\n",
        "    def get_weight(self):\n",
        "        return str(self.weight)\n",
        "\n",
        "    def get_sound(self):\n",
        "        return self.sound\n",
        "\n",
        "    def get_type(self):\n",
        "        print(\"Animal\")\n",
        "\n",
        "    def toString(self):\n",
        "        return \"{} is {} cm tall and {} kilograms and says {}\".format(self.name, self.height, self.weight, self.sound)\n",
        "\n",
        "\n",
        "cat = Animal('Whisker', 33, 10, 'Meow') # Creating Animal object\n",
        "\n",
        "print(cat.toString())\n",
        "\n",
        "\n",
        "#print(cat.__name) can't access this value directly because it is private"
      ],
      "metadata": {
        "colab": {
          "base_uri": "https://localhost:8080/"
        },
        "id": "kkvzbFn-2R22",
        "outputId": "59d763fa-1b54-4a24-a7d9-156f24ffdadd"
      },
      "execution_count": null,
      "outputs": [
        {
          "output_type": "stream",
          "name": "stdout",
          "text": [
            "Whisker is 33 cm tall and 10 kilograms and says Meow\n"
          ]
        }
      ]
    },
    {
      "cell_type": "code",
      "source": [
        "# ________________INHERITANCE_________________\n",
        "# Inheriting all of the variables and methods from another class\n",
        "\n",
        "class Dog(Animal):\n",
        "    owner = None\n",
        "\n",
        "    def __init__(self, name, height, weight, sound, owner):\n",
        "        self.owner = owner\n",
        "        self.animal_type = None\n",
        "\n",
        "        super(Dog, self).__init__(name, height, weight, sound) # Call the super class constructor\n",
        "\n",
        "    def set_owner(self, owner):\n",
        "        self.owner = owner\n",
        "\n",
        "    def get_owner(self):\n",
        "        return self.owner\n",
        "\n",
        "    def get_type(self):\n",
        "        print (\"Dog\")\n",
        "\n",
        "    # We can overwrite functions in the super class\n",
        "    def toString(self):\n",
        "        return \"{} is {} cm tall and {} kilograms and says {}. His owner is {}\".format(self.get_name(), self.get_height(), self.get_weight(), self.get_sound(), self.owner)\n",
        "\n",
        "    # We don't have to send required attributes\n",
        "    # This allows for method overloading\n",
        "\n",
        "    def multiple_sounds(self, how_many=None):\n",
        "        if how_many is None:\n",
        "            print(self.get_sound)\n",
        "        else:\n",
        "            print(self.get_sound() * how_many)\n",
        "\n",
        "spot = Dog(\"Spot\", 53, 27, \"Ruff\", \"Sravani Thota\")\n",
        "\n",
        "print(spot.toString())\n",
        "\n"
      ],
      "metadata": {
        "colab": {
          "base_uri": "https://localhost:8080/"
        },
        "id": "YKVwP3qU2Ypi",
        "outputId": "e71f12a8-5a66-4bfc-909e-6d6fdc1a3fa7"
      },
      "execution_count": null,
      "outputs": [
        {
          "output_type": "stream",
          "name": "stdout",
          "text": [
            "Spot is 53 cm tall and 27 kilograms and says Ruff. His owner is Sravani Thota\n"
          ]
        }
      ]
    },
    {
      "cell_type": "code",
      "source": [
        "# ___________Polymorphism______________\n",
        "\n",
        "# Polymorphism allows us to refer to objects as their super class\n",
        "# The corresponding functions are called automatically\n",
        "\n",
        "class AnimalTesting:\n",
        "    def get_type(self, animal):\n",
        "        animal.get_type()\n",
        "\n",
        "test_animals = AnimalTesting()\n",
        "\n",
        "test_animals.get_type(cat)\n",
        "test_animals.get_type(spot)\n",
        "\n",
        "spot.multiple_sounds(4)"
      ],
      "metadata": {
        "colab": {
          "base_uri": "https://localhost:8080/"
        },
        "id": "iI5qtPES2elF",
        "outputId": "7a9cb288-7ab2-4387-9fbe-363dfd479688"
      },
      "execution_count": null,
      "outputs": [
        {
          "output_type": "stream",
          "name": "stdout",
          "text": [
            "Animal\n",
            "Dog\n",
            "RuffRuffRuffRuff\n"
          ]
        }
      ]
    }
  ]
}